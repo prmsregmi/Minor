{
 "cells": [
  {
   "cell_type": "code",
   "execution_count": 31,
   "metadata": {},
   "outputs": [],
   "source": [
    "import os\n",
    "import pandas as pd\n",
    "import numpy as np\n",
    "import pickle\n",
    "ecg_data=pd.read_csv(\"datasets/ecg/ecg_dataset.csv\")\n",
    "# encoder_dict={0: \"/\", 1: \"A\", 2:\"E\", 3:\"F\", 4:\"J\", 5: \"L\", 6: \"N\", 7:\"Q\", 8:\"R\", 9:\"S\", 10:\"V\", 11:\"a\", 12:\"e\", 13:\"f\", 14:\"j\"}"
   ]
  },
  {
   "cell_type": "code",
   "execution_count": 32,
   "metadata": {},
   "outputs": [],
   "source": [
    "#conversion of last row of characters into respective numeric values and storing in ecg_cat_1hot\n",
    "\n",
    "ecg_cat=ecg_data.iloc[:,-1]\n",
    "from sklearn.preprocessing import LabelEncoder\n",
    "encoder=LabelEncoder()\n",
    "ecg_cat_1hot=encoder.fit_transform(ecg_cat)\n",
    "\n",
    "#adding encoded to the original data\n",
    "ecg_data.drop(ecg_data.columns[100], axis=1, inplace=True)\n",
    "ecg_data[100]=ecg_cat_1hot"
   ]
  },
  {
   "cell_type": "code",
   "execution_count": 3,
   "metadata": {},
   "outputs": [],
   "source": [
    "# stratified spliting of data to train and test\n",
    "\n",
    "from sklearn.model_selection import StratifiedShuffleSplit\n",
    "split= StratifiedShuffleSplit(n_splits=1, test_size=0.2, random_state=42)\n",
    "for train_index, test_index in split.split(ecg_data, ecg_data.iloc[:,[-1]]):\n",
    "    strat_train_set=ecg_data.loc[train_index]\n",
    "    strat_test_set=ecg_data.loc[test_index]"
   ]
  },
  {
   "cell_type": "code",
   "execution_count": 4,
   "metadata": {},
   "outputs": [],
   "source": [
    "#data and label separation\n",
    "\n",
    "y_train=strat_train_set.iloc[:,-1].copy()\n",
    "x_train=strat_train_set.drop(strat_train_set.columns[100], axis=1)"
   ]
  },
  {
   "cell_type": "code",
   "execution_count": 5,
   "metadata": {},
   "outputs": [],
   "source": [
    "random_for = pickle.load(open(\"Saved Models/randomforest.sav\", 'rb'))"
   ]
  },
  {
   "cell_type": "code",
   "execution_count": 74,
   "metadata": {},
   "outputs": [],
   "source": [
    "def my_class_predict(data):\n",
    "    data = data.values.reshape(1,-1)\n",
    "    temp=random_for.predict(data)\n",
    "    encoded_predict=encoder.inverse_transform(temp)\n",
    "    print(encoded_predict[0])"
   ]
  },
  {
   "cell_type": "code",
   "execution_count": 78,
   "metadata": {},
   "outputs": [
    {
     "name": "stdout",
     "output_type": "stream",
     "text": [
      "<class 'numpy.ndarray'>\n",
      "N\n"
     ]
    }
   ],
   "source": [
    "data=x_train.iloc[1019]\n",
    "my_class_predict(data)"
   ]
  }
 ],
 "metadata": {
  "kernelspec": {
   "display_name": "Python 3",
   "language": "python",
   "name": "python3"
  },
  "language_info": {
   "codemirror_mode": {
    "name": "ipython",
    "version": 3
   },
   "file_extension": ".py",
   "mimetype": "text/x-python",
   "name": "python",
   "nbconvert_exporter": "python",
   "pygments_lexer": "ipython3",
   "version": "3.7.1"
  }
 },
 "nbformat": 4,
 "nbformat_minor": 2
}
